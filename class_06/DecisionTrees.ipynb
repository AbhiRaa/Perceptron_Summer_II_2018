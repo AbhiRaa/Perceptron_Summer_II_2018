{
 "cells": [
  {
   "cell_type": "code",
   "execution_count": null,
   "metadata": {
    "collapsed": true
   },
   "outputs": [],
   "source": [
    "import numpy as np\n",
    "import pandas as pd\n",
    "from matplotlib import pyplot as plt\n",
    "%matplotlib inline\n",
    "import seaborn as sns"
   ]
  },
  {
   "cell_type": "code",
   "execution_count": null,
   "metadata": {
    "collapsed": false
   },
   "outputs": [],
   "source": [
    "ds = pd.read_csv('../../data/titanic.csv')\n",
    "ds.info()"
   ]
  },
  {
   "cell_type": "code",
   "execution_count": null,
   "metadata": {
    "collapsed": false
   },
   "outputs": [],
   "source": [
    "ds.head()"
   ]
  },
  {
   "cell_type": "code",
   "execution_count": null,
   "metadata": {
    "collapsed": false
   },
   "outputs": [],
   "source": [
    "cols_to_drop = [\n",
    "    'PassengerId',\n",
    "    'Name',\n",
    "    'Ticket',\n",
    "    'Cabin',\n",
    "    'Embarked',\n",
    "]\n",
    "\n",
    "df = ds.drop(cols_to_drop, axis=1)\n",
    "df.head()"
   ]
  },
  {
   "cell_type": "code",
   "execution_count": null,
   "metadata": {
    "collapsed": false
   },
   "outputs": [],
   "source": [
    "def convert_sex_to_num(s):\n",
    "    if s=='male':\n",
    "        return 0\n",
    "    elif s=='female':\n",
    "        return 1\n",
    "    else:\n",
    "        return s\n",
    "\n",
    "df.Sex = df.Sex.map(convert_sex_to_num)\n",
    "df.head()"
   ]
  },
  {
   "cell_type": "code",
   "execution_count": null,
   "metadata": {
    "collapsed": false
   },
   "outputs": [],
   "source": [
    "data = df.dropna()\n",
    "data.describe()"
   ]
  },
  {
   "cell_type": "code",
   "execution_count": null,
   "metadata": {
    "collapsed": false
   },
   "outputs": [],
   "source": [
    "plt.figure()\n",
    "sns.heatmap(data.corr())"
   ]
  },
  {
   "cell_type": "code",
   "execution_count": null,
   "metadata": {
    "collapsed": false
   },
   "outputs": [],
   "source": [
    "input_cols = ['Pclass', 'Sex', 'Age', 'SibSp', 'Parch', 'Fare']\n",
    "out_cols = ['Survived']\n",
    "\n",
    "X = data[input_cols]\n",
    "y = data[out_cols]\n",
    "\n",
    "#X.head()\n",
    "print X.shape, y.shape"
   ]
  },
  {
   "cell_type": "code",
   "execution_count": null,
   "metadata": {
    "collapsed": false
   },
   "outputs": [],
   "source": [
    "data = data.reset_index(drop=True)"
   ]
  },
  {
   "cell_type": "markdown",
   "metadata": {},
   "source": [
    "# Functions for Decision Tree"
   ]
  },
  {
   "cell_type": "code",
   "execution_count": null,
   "metadata": {
    "collapsed": true
   },
   "outputs": [],
   "source": [
    "def divide_data(x_data, fkey, fval):\n",
    "    x_right = pd.DataFrame([], columns=x_data.columns)\n",
    "    x_left = pd.DataFrame([], columns=x_data.columns)\n",
    "    \n",
    "    \n",
    "    for ix in xrange(x_data.shape[0]):\n",
    "        # Retrieve the current value for the fkey column\n",
    "        try:\n",
    "            val = x_data[fkey].loc[ix]\n",
    "        except:\n",
    "            print x_data[fkey]\n",
    "            val = x_data[fkey].loc[ix]\n",
    "        # print val\n",
    "        \n",
    "        # Check where the row needs to go\n",
    "        if val > fval:\n",
    "            # pass the row to right\n",
    "            x_right = x_right.append(x_data.loc[ix])\n",
    "        else:\n",
    "            # pass the row to left\n",
    "            x_left = x_left.append(x_data.loc[ix])\n",
    "    \n",
    "    # return the divided datasets\n",
    "    return x_left, x_right\n",
    "\n",
    "\n",
    "def entropy(col):\n",
    "    counts = np.unique(col, return_counts=True)\n",
    "\n",
    "def information_gain(xdata, fkey, fval):\n",
    "    left, right = divide_data(xdata, fkey, fval)\n",
    "    \n",
    "    if left.shape[0] == 0 or right.shape[0] == 0:\n",
    "        return -10000\n",
    "    \n",
    "    return 2*entropy(xdata.Survived) - (entropy(left.Survived) + entropy(right.Survived))"
   ]
  },
  {
   "cell_type": "code",
   "execution_count": null,
   "metadata": {
    "collapsed": false
   },
   "outputs": [],
   "source": [
    "for fx in X.columns:\n",
    "    print fx,\n",
    "    print information_gain(data, fx, data[fx].mean())"
   ]
  },
  {
   "cell_type": "code",
   "execution_count": null,
   "metadata": {
    "collapsed": true
   },
   "outputs": [],
   "source": [
    "# The DT class"
   ]
  },
  {
   "cell_type": "code",
   "execution_count": null,
   "metadata": {
    "collapsed": false
   },
   "outputs": [],
   "source": [
    "class DecisionTree:\n",
    "    def __init__(self, depth=0, max_depth=5):\n",
    "        self.left = None\n",
    "        self.right = None\n",
    "        self.fkey = None\n",
    "        self.fval = None\n",
    "        self.max_depth = max_depth\n",
    "        self.depth = depth\n",
    "        self.target = None\n",
    "    \n",
    "    def train(self, X_train):\n",
    "        print self.depth, '-'*10\n",
    "        # Get the best possible feature and division value\n",
    "        features = ['Pclass', 'Sex', 'Age', 'SibSp', 'Parch', 'Fare']\n",
    "        gains = []\n",
    "        for fx in features:\n",
    "            gains.append(information_gain(X_train, fx, X_train[fx].mean()))\n",
    "        \n",
    "        # store the best feature (using min information gain)\n",
    "        self.fkey = features[np.argmax(gains)]\n",
    "        self.fval = X_train[self.fkey].mean()\n",
    "        \n",
    "        # divide the dataset\n",
    "        data_left, data_right = divide_data(X_train, self.fkey, self.fval)\n",
    "        data_left = data_left.reset_index(drop=True)\n",
    "        data_right = data_right.reset_index(drop=True)\n",
    "        \n",
    "        # Check the shapes\n",
    "        if data_left.shape[0] == 0 or data_right.shape[0] == 0:\n",
    "            if X_train.Survived.mean() >= 0.5:\n",
    "                self.target = 'Survived'\n",
    "            else:\n",
    "                self.target = 'Dead'\n",
    "            return\n",
    "        \n",
    "        if self.depth >= self.max_depth:\n",
    "            if X_train.Survived.mean() >= 0.5:\n",
    "                self.target = 'Survived'\n",
    "            else:\n",
    "                self.target = 'Dead'\n",
    "            return\n",
    "        \n",
    "        # branch to right\n",
    "        self.right = DecisionTree(depth=self.depth+1, max_depth=self.max_depth)\n",
    "        self.right.train(data_right)\n",
    "        # branch to left\n",
    "        self.left = DecisionTree(depth=self.depth+1, max_depth=self.max_depth)\n",
    "        self.left.train(data_left)\n",
    "        \n",
    "        if X_train.Survived.mean() >= 0.5:\n",
    "            self.target = 'Survived'\n",
    "        else:\n",
    "            self.target = 'Dead'\n",
    "        \n",
    "        return\n",
    "    \n",
    "    def predict(self, test):\n",
    "        if test[self.fkey] > self.fval:\n",
    "            # go right\n",
    "            if self.right is None:\n",
    "                return self.target\n",
    "            return self.right.predict(test)\n",
    "        else:\n",
    "            # go left\n",
    "            if self.left is None:\n",
    "                return self.target\n",
    "            return self.left.predict(test)"
   ]
  },
  {
   "cell_type": "code",
   "execution_count": null,
   "metadata": {
    "collapsed": false
   },
   "outputs": [],
   "source": []
  },
  {
   "cell_type": "code",
   "execution_count": null,
   "metadata": {
    "collapsed": false
   },
   "outputs": [],
   "source": [
    "split = int(0.8 * data.shape[0])\n",
    "\n",
    "training_data = data[:split]\n",
    "testing_data = data[split:]"
   ]
  },
  {
   "cell_type": "code",
   "execution_count": null,
   "metadata": {
    "collapsed": false
   },
   "outputs": [],
   "source": [
    "dt = DecisionTree()\n",
    "dt.train(training_data)"
   ]
  },
  {
   "cell_type": "code",
   "execution_count": null,
   "metadata": {
    "collapsed": false
   },
   "outputs": [],
   "source": [
    "print dt.fkey, dt.fval\n",
    "print dt.right.fkey, dt.right.fval\n",
    "print dt.left.fkey, dt.left.fval\n",
    "\n",
    "print dt.right.right.fkey, dt.right.right.fval\n",
    "print dt.right.left.fkey, dt.right.left.fval\n",
    "\n",
    "\n",
    "print dt.left.right.fkey, dt.left.right.fval\n",
    "print dt.left.left.fkey, dt.left.left.fval\n"
   ]
  },
  {
   "cell_type": "code",
   "execution_count": null,
   "metadata": {
    "collapsed": false
   },
   "outputs": [],
   "source": [
    "for ix in testing_data.index[:10]:\n",
    "    print dt.predict(testing_data.loc[ix])"
   ]
  },
  {
   "cell_type": "code",
   "execution_count": null,
   "metadata": {
    "collapsed": false,
    "scrolled": false
   },
   "outputs": [],
   "source": [
    "testing_data.head(10)"
   ]
  },
  {
   "cell_type": "code",
   "execution_count": null,
   "metadata": {
    "collapsed": true
   },
   "outputs": [],
   "source": [
    "import sklearn"
   ]
  },
  {
   "cell_type": "code",
   "execution_count": null,
   "metadata": {
    "collapsed": true
   },
   "outputs": [],
   "source": [
    "from sklearn.tree import DecisionTreeClassifier\n",
    "from sklearn.ensemble import RandomForestClassifier"
   ]
  },
  {
   "cell_type": "code",
   "execution_count": null,
   "metadata": {
    "collapsed": false
   },
   "outputs": [],
   "source": [
    "DT = DecisionTreeClassifier()\n",
    "DT.fit(X[:split], y[:split])"
   ]
  },
  {
   "cell_type": "code",
   "execution_count": null,
   "metadata": {
    "collapsed": false
   },
   "outputs": [],
   "source": [
    "DT.score(X[split:], y[split:])"
   ]
  },
  {
   "cell_type": "code",
   "execution_count": null,
   "metadata": {
    "collapsed": false
   },
   "outputs": [],
   "source": [
    "rf = RandomForestClassifier(n_estimators=100)\n",
    "rf.fit(X[:split], y[:split])\n",
    "\n",
    "rf.score(X[split:], y[split:])"
   ]
  },
  {
   "cell_type": "code",
   "execution_count": null,
   "metadata": {
    "collapsed": true
   },
   "outputs": [],
   "source": []
  }
 ],
 "metadata": {
  "kernelspec": {
   "display_name": "Python 2",
   "language": "python",
   "name": "python2"
  },
  "language_info": {
   "codemirror_mode": {
    "name": "ipython",
    "version": 2
   },
   "file_extension": ".py",
   "mimetype": "text/x-python",
   "name": "python",
   "nbconvert_exporter": "python",
   "pygments_lexer": "ipython2",
   "version": "2.7.12"
  }
 },
 "nbformat": 4,
 "nbformat_minor": 2
}
